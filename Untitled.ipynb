{
 "cells": [
  {
   "cell_type": "code",
   "execution_count": 1,
   "metadata": {},
   "outputs": [],
   "source": [
    "from sklearn.ensemble import GradientBoostingClassifier, RandomForestClassifier"
   ]
  },
  {
   "cell_type": "code",
   "execution_count": 45,
   "metadata": {},
   "outputs": [],
   "source": [
    "%matplotlib inline\n",
    "import pandas as pd\n",
    "import matplotlib.pyplot as plt\n",
    "import numpy as np\n",
    "import scipy.cluster.hierarchy as sch\n",
    "import glob\n",
    "from functools import reduce"
   ]
  },
  {
   "cell_type": "code",
   "execution_count": 23,
   "metadata": {},
   "outputs": [],
   "source": [
    "\n",
    "%matplotlib inline\n",
    "import matplotlib.pyplot as plt\n"
   ]
  },
  {
   "cell_type": "code",
   "execution_count": 3,
   "metadata": {},
   "outputs": [
    {
     "name": "stderr",
     "output_type": "stream",
     "text": [
      "/usr/lib/python3.5/importlib/_bootstrap.py:222: RuntimeWarning: numpy.dtype size changed, may indicate binary incompatibility. Expected 96, got 88\n",
      "  return f(*args, **kwds)\n",
      "/usr/lib/python3.5/importlib/_bootstrap.py:222: RuntimeWarning: numpy.dtype size changed, may indicate binary incompatibility. Expected 96, got 88\n",
      "  return f(*args, **kwds)\n"
     ]
    }
   ],
   "source": [
    "import pandas as pd"
   ]
  },
  {
   "cell_type": "code",
   "execution_count": 7,
   "metadata": {},
   "outputs": [],
   "source": [
    "df_mat=pd.read_pickle('auxin.exp.matrix.df1231.pk')"
   ]
  },
  {
   "cell_type": "code",
   "execution_count": 5,
   "metadata": {},
   "outputs": [],
   "source": [
    "lr = 0.1 #learning_rate ,0.01,0.001 런닝레이트에따라서 estimator에 잡아넣는다."
   ]
  },
  {
   "cell_type": "code",
   "execution_count": 6,
   "metadata": {},
   "outputs": [],
   "source": [
    "gb= GradientBoostingClassifier(n_estimators=20000,learning_rate=lr,random_state=0)\n",
    "#디시전트리."
   ]
  },
  {
   "cell_type": "code",
   "execution_count": 14,
   "metadata": {},
   "outputs": [],
   "source": [
    "X=df_mat.values[:,1:].T"
   ]
  },
  {
   "cell_type": "code",
   "execution_count": 15,
   "metadata": {},
   "outputs": [
    {
     "data": {
      "text/plain": [
       "(6, 48359)"
      ]
     },
     "execution_count": 15,
     "metadata": {},
     "output_type": "execute_result"
    }
   ],
   "source": [
    "X.shape"
   ]
  },
  {
   "cell_type": "code",
   "execution_count": 16,
   "metadata": {},
   "outputs": [],
   "source": [
    "Y=[1,1,1,2,2,2]"
   ]
  },
  {
   "cell_type": "code",
   "execution_count": 17,
   "metadata": {},
   "outputs": [
    {
     "data": {
      "text/plain": [
       "GradientBoostingClassifier(criterion='friedman_mse', init=None,\n",
       "              learning_rate=0.1, loss='deviance', max_depth=3,\n",
       "              max_features=None, max_leaf_nodes=None,\n",
       "              min_impurity_decrease=0.0, min_impurity_split=None,\n",
       "              min_samples_leaf=1, min_samples_split=2,\n",
       "              min_weight_fraction_leaf=0.0, n_estimators=20000,\n",
       "              presort='auto', random_state=0, subsample=1.0, verbose=0,\n",
       "              warm_start=False)"
      ]
     },
     "execution_count": 17,
     "metadata": {},
     "output_type": "execute_result"
    }
   ],
   "source": [
    "gb.fit(X,Y)"
   ]
  },
  {
   "cell_type": "code",
   "execution_count": 18,
   "metadata": {},
   "outputs": [],
   "source": [
    "gbf=gb.feature_importances_"
   ]
  },
  {
   "cell_type": "code",
   "execution_count": 19,
   "metadata": {},
   "outputs": [
    {
     "data": {
      "text/plain": [
       "(48359,)"
      ]
     },
     "execution_count": 19,
     "metadata": {},
     "output_type": "execute_result"
    }
   ],
   "source": [
    "gbf.shape"
   ]
  },
  {
   "cell_type": "code",
   "execution_count": 24,
   "metadata": {},
   "outputs": [
    {
     "data": {
      "text/plain": [
       "<function matplotlib.pyplot.show>"
      ]
     },
     "execution_count": 24,
     "metadata": {},
     "output_type": "execute_result"
    },
    {
     "data": {
      "image/png": "[encoded data removed]",
      "text/plain": [
       "<Figure size 432x288 with 1 Axes>"
      ]
     },
     "metadata": {},
     "output_type": "display_data"
    }
   ],
   "source": [
    "plt.hist(gbf)\n",
    "plt.show"
   ]
  },
  {
   "cell_type": "code",
   "execution_count": 26,
   "metadata": {},
   "outputs": [
    {
     "data": {
      "text/plain": [
       "72"
      ]
     },
     "execution_count": 26,
     "metadata": {},
     "output_type": "execute_result"
    }
   ],
   "source": [
    "len(gbf.nonzero()[0])"
   ]
  },
  {
   "cell_type": "code",
   "execution_count": 27,
   "metadata": {},
   "outputs": [
    {
     "data": {
      "text/plain": [
       "(48359,)"
      ]
     },
     "execution_count": 27,
     "metadata": {},
     "output_type": "execute_result"
    }
   ],
   "source": [
    "gbf.shape"
   ]
  },
  {
   "cell_type": "code",
   "execution_count": 28,
   "metadata": {},
   "outputs": [
    {
     "data": {
      "text/plain": [
       "(6, 48359)"
      ]
     },
     "execution_count": 28,
     "metadata": {},
     "output_type": "execute_result"
    }
   ],
   "source": [
    "X.shape"
   ]
  },
  {
   "cell_type": "code",
   "execution_count": 29,
   "metadata": {},
   "outputs": [],
   "source": [
    "m = gbf>0"
   ]
  },
  {
   "cell_type": "code",
   "execution_count": 30,
   "metadata": {},
   "outputs": [
    {
     "data": {
      "text/plain": [
       "(48359,)"
      ]
     },
     "execution_count": 30,
     "metadata": {},
     "output_type": "execute_result"
    }
   ],
   "source": [
    "m.shape"
   ]
  },
  {
   "cell_type": "code",
   "execution_count": 31,
   "metadata": {},
   "outputs": [
    {
     "data": {
      "text/plain": [
       "array([False, False, False, ..., False, False, False])"
      ]
     },
     "execution_count": 31,
     "metadata": {},
     "output_type": "execute_result"
    }
   ],
   "source": [
    "m"
   ]
  },
  {
   "cell_type": "code",
   "execution_count": 33,
   "metadata": {},
   "outputs": [
    {
     "data": {
      "text/plain": [
       "(6, 72)"
      ]
     },
     "execution_count": 33,
     "metadata": {},
     "output_type": "execute_result"
    }
   ],
   "source": [
    "X[:,m].shape"
   ]
  },
  {
   "cell_type": "code",
   "execution_count": null,
   "metadata": {},
   "outputs": [],
   "source": []
  },
  {
   "cell_type": "code",
   "execution_count": 62,
   "metadata": {},
   "outputs": [
    {
     "data": {
      "text/plain": [
       "array([0.5, 1.5, 2.5, 3.5, 4.5, 5.5])"
      ]
     },
     "execution_count": 62,
     "metadata": {},
     "output_type": "execute_result"
    }
   ],
   "source": [
    "(np.arange(0.5, D.shape[1],1))"
   ]
  },
  {
   "cell_type": "code",
   "execution_count": 65,
   "metadata": {},
   "outputs": [
    {
     "name": "stderr",
     "output_type": "stream",
     "text": [
      "/usr/local/lib/python3.5/dist-packages/sklearn/utils/validation.py:475: DataConversionWarning: Data with input dtype object was converted to float64 by the scale function.\n",
      "  warnings.warn(msg, DataConversionWarning)\n"
     ]
    },
    {
     "data": {
      "image/png": "[encoded data removed]",
      "text/plain": [
       "<Figure size 360x1008 with 3 Axes>"
      ]
     },
     "metadata": {},
     "output_type": "display_data"
    }
   ],
   "source": [
    "import scipy.cluster.hierarchy as sch #계층적 군집화.hierarchy 72개 선별, 111222 분류에 기여. 발연패턴비슷\n",
    "from sklearn import preprocessing \n",
    "D= X[:,m].T\n",
    "D= preprocessing.scale(D,axis=1) # 프리프로스케일\n",
    "fig= plt.figure(figsize=(5,14)) #그림그리기지정.\n",
    "ax1= fig.add_axes([0.09,0.1,0.2,0.6])# addaxes 가로세로 높이넓이. add_axes검색.\n",
    "\n",
    "\n",
    "Y= sch.linkage(D, method='ward') #linkage =클러스터링 함수.\n",
    "Z= sch.dendrogram(Y,orientation='left') #결과를 읽고 그림그려줌.\n",
    "ax1.set_xticks([])\n",
    "ax1.set_yticks([])\n",
    "ax1.set_axis_off()\n",
    "zix=Z['leaves']\n",
    "\n",
    "ax2 = fig.add_axes([0.53,0.1,0.5,0.6])\n",
    "cax = ax2.pcolor(D[zix]) #pcolor 재구성된 히트맵. 그림그리는 함수.\n",
    "ax2.axis('tight')\n",
    "#ax2.set_yticks(np.arange(0.5, len(df)))\n",
    "#ax2.set_yticklabels(df.index[zix],ha='right') \n",
    "ax2.set_xticks(np.arange(0.5, D.shape[1],1))#ticks 틱자리 지정.\n",
    "ax2.set_xticklabels(df_mat.columns[1:], rotation='vertical') #ticks에 콜롬이름적어라.\n",
    "fig.colorbar(cax, orientation='vertical') # hitmap결과에따른 칼라바\n",
    "plt.savefig('learning_rate_%f.png' %lr,dpi=400, bbox_inches='tight')\n",
    "#dpi = 인치당픽셀..400이상 bbox_inches='tight'안하면 끊김.\n",
    "plt.show()\n",
    "\n"
   ]
  },
  {
   "cell_type": "code",
   "execution_count": 63,
   "metadata": {},
   "outputs": [
    {
     "data": {
      "text/plain": [
       "Index(['con1', 'con2', 'con3', 'dex1', 'dex2', 'dex3'], dtype='object')"
      ]
     },
     "execution_count": 63,
     "metadata": {},
     "output_type": "execute_result"
    }
   ],
   "source": []
  },
  {
   "cell_type": "code",
   "execution_count": 53,
   "metadata": {},
   "outputs": [
    {
     "data": {
      "text/plain": [
       "['leaves', 'dcoord', 'icoord', 'ivl', 'color_list']"
      ]
     },
     "execution_count": 53,
     "metadata": {},
     "output_type": "execute_result"
    }
   ],
   "source": [
    "list(Z.keys())"
   ]
  },
  {
   "cell_type": "code",
   "execution_count": 55,
   "metadata": {},
   "outputs": [
    {
     "data": {
      "text/plain": [
       "72"
      ]
     },
     "execution_count": 55,
     "metadata": {},
     "output_type": "execute_result"
    }
   ],
   "source": [
    "len(Z['leaves'])"
   ]
  },
  {
   "cell_type": "code",
   "execution_count": 56,
   "metadata": {},
   "outputs": [
    {
     "data": {
      "text/plain": [
       "[58,\n",
       " 69,\n",
       " 1,\n",
       " 68,\n",
       " 12,\n",
       " 66,\n",
       " 31,\n",
       " 32,\n",
       " 27,\n",
       " 41,\n",
       " 52,\n",
       " 60,\n",
       " 26,\n",
       " 34,\n",
       " 18,\n",
       " 0,\n",
       " 25,\n",
       " 47,\n",
       " 61,\n",
       " 24,\n",
       " 55,\n",
       " 11,\n",
       " 54,\n",
       " 59,\n",
       " 37,\n",
       " 8,\n",
       " 14,\n",
       " 20,\n",
       " 22,\n",
       " 36,\n",
       " 51,\n",
       " 65,\n",
       " 23,\n",
       " 9,\n",
       " 46,\n",
       " 5,\n",
       " 3,\n",
       " 16,\n",
       " 45,\n",
       " 40,\n",
       " 43,\n",
       " 30,\n",
       " 57,\n",
       " 44,\n",
       " 50,\n",
       " 15,\n",
       " 70,\n",
       " 17,\n",
       " 48,\n",
       " 19,\n",
       " 13,\n",
       " 56,\n",
       " 42,\n",
       " 63,\n",
       " 6,\n",
       " 35,\n",
       " 62,\n",
       " 2,\n",
       " 38,\n",
       " 21,\n",
       " 10,\n",
       " 71,\n",
       " 53,\n",
       " 64,\n",
       " 29,\n",
       " 7,\n",
       " 28,\n",
       " 49,\n",
       " 4,\n",
       " 67,\n",
       " 33,\n",
       " 39]"
      ]
     },
     "execution_count": 56,
     "metadata": {},
     "output_type": "execute_result"
    }
   ],
   "source": [
    "Z['leaves']"
   ]
  },
  {
   "cell_type": "code",
   "execution_count": 57,
   "metadata": {},
   "outputs": [
    {
     "data": {
      "text/plain": [
       "array([ 0.28806702,  1.43471929,  0.39045432, -0.08338852, -0.10965263,\n",
       "       -1.92019948])"
      ]
     },
     "execution_count": 57,
     "metadata": {},
     "output_type": "execute_result"
    }
   ],
   "source": [
    "D[58,:]"
   ]
  },
  {
   "cell_type": "code",
   "execution_count": 58,
   "metadata": {},
   "outputs": [
    {
     "data": {
      "text/plain": [
       "array([ 0.76533324,  1.74959465, -0.03459046, -1.07988546, -0.37991236,\n",
       "       -1.02053961])"
      ]
     },
     "execution_count": 58,
     "metadata": {},
     "output_type": "execute_result"
    }
   ],
   "source": [
    "D[69,:]"
   ]
  },
  {
   "cell_type": "code",
   "execution_count": 59,
   "metadata": {},
   "outputs": [
    {
     "data": {
      "text/plain": [
       "array([ 0.13109578,  2.09604976, -0.17966817, -0.84564923, -0.3561789 ,\n",
       "       -0.84564923])"
      ]
     },
     "execution_count": 59,
     "metadata": {},
     "output_type": "execute_result"
    }
   ],
   "source": [
    "D[1,:]"
   ]
  },
  {
   "cell_type": "code",
   "execution_count": null,
   "metadata": {},
   "outputs": [],
   "source": [
    "D[zix,:] #D[zix] 전체를 먼저 안쳐도 처음이면 상관없음."
   ]
  },
  {
   "cell_type": "code",
   "execution_count": 60,
   "metadata": {},
   "outputs": [
    {
     "data": {
      "text/plain": [
       "[58,\n",
       " 69,\n",
       " 1,\n",
       " 68,\n",
       " 12,\n",
       " 66,\n",
       " 31,\n",
       " 32,\n",
       " 27,\n",
       " 41,\n",
       " 52,\n",
       " 60,\n",
       " 26,\n",
       " 34,\n",
       " 18,\n",
       " 0,\n",
       " 25,\n",
       " 47,\n",
       " 61,\n",
       " 24,\n",
       " 55,\n",
       " 11,\n",
       " 54,\n",
       " 59,\n",
       " 37,\n",
       " 8,\n",
       " 14,\n",
       " 20,\n",
       " 22,\n",
       " 36,\n",
       " 51,\n",
       " 65,\n",
       " 23,\n",
       " 9,\n",
       " 46,\n",
       " 5,\n",
       " 3,\n",
       " 16,\n",
       " 45,\n",
       " 40,\n",
       " 43,\n",
       " 30,\n",
       " 57,\n",
       " 44,\n",
       " 50,\n",
       " 15,\n",
       " 70,\n",
       " 17,\n",
       " 48,\n",
       " 19,\n",
       " 13,\n",
       " 56,\n",
       " 42,\n",
       " 63,\n",
       " 6,\n",
       " 35,\n",
       " 62,\n",
       " 2,\n",
       " 38,\n",
       " 21,\n",
       " 10,\n",
       " 71,\n",
       " 53,\n",
       " 64,\n",
       " 29,\n",
       " 7,\n",
       " 28,\n",
       " 49,\n",
       " 4,\n",
       " 67,\n",
       " 33,\n",
       " 39]"
      ]
     },
     "execution_count": 60,
     "metadata": {},
     "output_type": "execute_result"
    }
   ],
   "source": [
    "zix#72개짜리 순서"
   ]
  },
  {
   "cell_type": "code",
   "execution_count": 66,
   "metadata": {},
   "outputs": [],
   "source": [
    "m=gbf > 0"
   ]
  },
  {
   "cell_type": "code",
   "execution_count": 70,
   "metadata": {},
   "outputs": [],
   "source": [
    "selected_genelist=df_mat['target_id'].values[m]"
   ]
  },
  {
   "cell_type": "code",
   "execution_count": 71,
   "metadata": {},
   "outputs": [],
   "source": [
    "df_annot=pd.read_pickle('/common/db/araport11.annot.df.pk')"
   ]
  },
  {
   "cell_type": "code",
   "execution_count": 73,
   "metadata": {},
   "outputs": [],
   "source": [
    "df_annot_ix = df_annot.set_index('mRNA > DB identifier')"
   ]
  },
  {
   "cell_type": "code",
   "execution_count": 77,
   "metadata": {},
   "outputs": [],
   "source": [
    "df_annot_ix.loc[selected_genelist].to_csv('JUS_lr0.1_selectedgenelist.csv')"
   ]
  },
  {
   "cell_type": "markdown",
   "metadata": {},
   "source": [
    "selected_genelist"
   ]
  },
  {
   "cell_type": "code",
   "execution_count": null,
   "metadata": {},
   "outputs": [],
   "source": []
  },
  {
   "cell_type": "markdown",
   "metadata": {},
   "source": [
    "---"
   ]
  },
  {
   "cell_type": "code",
   "execution_count": null,
   "metadata": {},
   "outputs": [],
   "source": []
  }
 ],
 "metadata": {
  "kernelspec": {
   "display_name": "Python 3",
   "language": "python",
   "name": "python3"
  },
  "language_info": {
   "codemirror_mode": {
    "name": "ipython",
    "version": 3
   },
   "file_extension": ".py",
   "mimetype": "text/x-python",
   "name": "python",
   "nbconvert_exporter": "python",
   "pygments_lexer": "ipython3",
   "version": "3.5.2"
  }
 },
 "nbformat": 4,
 "nbformat_minor": 2
}
